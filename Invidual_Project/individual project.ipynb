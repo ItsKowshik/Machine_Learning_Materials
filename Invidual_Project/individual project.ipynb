{
 "cells": [
  {
   "cell_type": "markdown",
   "metadata": {},
   "source": [
    "Project Description\n",
    "\n",
    "In this project, you need to solve an image classification task using coil-20-proc dataset. This dataset consists of 1,440 grayscale images of 20 objects (72 images per object). Half of each category is for training and half for testing. (e.g. 36 images for training and another 36 images for testing). Through this project, you can learn how to customize dataset loading, design deep models, and train and test models. This is an individual project, so avoid copying others' code. Additionally, you need to print the accuracy results during the training process. You should use a Python Jupyter Notebook to write down the process and accuracy results.\n"
   ]
  },
  {
   "cell_type": "markdown",
   "metadata": {},
   "source": [
    "Kowshik Arko Dey\n",
    "3180300806\n"
   ]
  },
  {
   "cell_type": "markdown",
   "metadata": {},
   "source": [
    "# 1. Complete the custom dataset, and dataloader.\n",
    "Fill in the code to complete the custom dataset and dataloader, you can refer to https://pytorch.org/tutorials/beginner/basics/data_tutorial.html"
   ]
  },
  {
   "cell_type": "code",
   "execution_count": 1,
   "metadata": {},
   "outputs": [],
   "source": [
    "#Import all necessary libraries\n",
    "import glob\n",
    "from torch.utils.data import Dataset, DataLoader\n",
    "from PIL import Image\n",
    "import random\n",
    "import time\n",
    "import os\n",
    "import torch\n",
    "import torch.nn as nn\n",
    "import random\n",
    "from torchvision import transforms\n",
    "import torch.nn.functional as F\n",
    "import matplotlib.pyplot as plt\n",
    "import argparse\n",
    "from datetime import datetime\n",
    "import logging\n",
    "from tqdm import tqdm\n",
    "import sys\n",
    "INDEX = 0\n",
    "\n",
    "# Create the base dataset class\n",
    "class Mydataset(Dataset):\n",
    "    def __init__(self, images, labels, transform):\n",
    "    # you should complete __init__ function\n",
    "        #The init function of the base dataset class\n",
    "        self.images = images\n",
    "        self.labels = labels\n",
    "        self.transform = transform\n",
    "        \n",
    "\n",
    "    def __getitem__(self, index):\n",
    "    # you should complete __getitem__ function\n",
    "        img = Image.open(self.images[index]).convert('L')  # Convert the image to grayscale\n",
    "        label = self.labels[index]  #Store the labels\n",
    "        img = self.transform(img)   #Transform each image data according to tranform\n",
    "        return img, label\n",
    "\n",
    "    def __len__(self):\n",
    "    # you should complete __len__ function\n",
    "        return len(self.images)     #Returns length of dataset\n",
    "\n",
    "#The load dataset function to load the entire directory\n",
    "def load_dataset(self):\n",
    "# you should complete load_dataset function\n",
    "    \n",
    "    transform = transforms.Compose([\n",
    "    transforms.Resize((128, 128)),\n",
    "    transforms.ToTensor(),\n",
    "    ])\n",
    "    data_path = 'coil-20-proc/coil-20-proc/'\n",
    "    image_paths = []\n",
    "    labels = []\n",
    "    \n",
    "\n",
    "    # Navigate through the subdirectories and collect image paths and labels\n",
    "    for i in range(1, 21):  # Assuming categories are labeled from 01 to 20\n",
    "        directory = os.path.join(data_path, f'{i:02}')  # Format subdirectory path\n",
    "        images_in_dir = glob.glob(f\"{directory}/*.png\")\n",
    "        image_paths.extend(images_in_dir)\n",
    "        labels.extend([i-1] * 72)  # Label is shifted to start from 0 due to Pytorch conventions\n",
    "\n",
    "    # Shuffle the dataset to ensure randomness\n",
    "    combined = list(zip(image_paths, labels))\n",
    "    random.shuffle(combined)\n",
    "    image_paths[:], labels[:] = zip(*combined)\n",
    "    \n",
    "    # Splitting the dataset into train and test\n",
    "    split_idx = int(len(image_paths) * (1 - 0.5))\n",
    "    train_paths, test_paths = image_paths[:split_idx], image_paths[split_idx:]\n",
    "    train_labels, test_labels = labels[:split_idx], labels[split_idx:]\n",
    "\n",
    "\n",
    "    # Create the dataset objects\n",
    "    train_dataset = Mydataset(train_paths, train_labels, transform)\n",
    "    test_dataset = Mydataset(test_paths, test_labels, transform)\n",
    "\n",
    "    # Create the dataloaders\n",
    "    train_loader = DataLoader(train_dataset, batch_size=32, shuffle=True,pin_memory=True)\n",
    "    test_loader = DataLoader(test_dataset, batch_size=32, shuffle=True,pin_memory=True)\n",
    "    \n",
    "    return train_loader, test_loader"
   ]
  },
  {
   "cell_type": "markdown",
   "metadata": {},
   "source": [
    "# 2. Implementing a Neural Network\n",
    "Fill in the code to complete the custom model, you can refer to https://pytorch.org/tutorials/beginner/basics/buildmodel_tutorial.html"
   ]
  },
  {
   "cell_type": "code",
   "execution_count": 2,
   "metadata": {},
   "outputs": [],
   "source": [
    "#Base model for my neural network\n",
    "#I used 2D convolution method\n",
    "class Mymodel(torch.nn.Module):\n",
    "    def __init__(self):\n",
    "    # you should complete __init__ function\n",
    "        super(Mymodel,self).__init__()\n",
    "        self.network = nn.Sequential(\n",
    "            nn.Conv2d(1, 128, kernel_size=3, padding=1),\n",
    "            nn.ReLU(),\n",
    "            nn.Conv2d(128, 128, kernel_size=3, stride=1, padding=1),\n",
    "            nn.ReLU(),\n",
    "            nn.MaxPool2d(2, 2),\n",
    "\n",
    "            nn.Conv2d(128, 256, kernel_size=3, stride=1, padding=1),\n",
    "            nn.ReLU(),\n",
    "            nn.Conv2d(256, 256, kernel_size=3, stride=1, padding=1),\n",
    "            nn.ReLU(),\n",
    "            nn.MaxPool2d(2, 2),\n",
    "\n",
    "            nn.Flatten(), \n",
    "            nn.Linear(256*1024, 1024),\n",
    "            nn.ReLU(),\n",
    "            nn.Linear(1024, 512),\n",
    "            nn.ReLU(),\n",
    "            nn.Linear(512, 20))\n",
    "\n",
    "    def forward(self, x):\n",
    "    # you should complete forward function\n",
    "        return self.network(x)"
   ]
  },
  {
   "cell_type": "markdown",
   "metadata": {},
   "source": [
    "# 3. Customize some arguments\n",
    "Fill in the code to complete the custom arguments"
   ]
  },
  {
   "cell_type": "code",
   "execution_count": 3,
   "metadata": {},
   "outputs": [],
   "source": [
    "#This is the function to read all the command line arguments. The default cases are also set\n",
    "def get_config():\n",
    "    parser = argparse.ArgumentParser()\n",
    "    parser.add_argument('--train_batch_size', type=int, default=32)\n",
    "    parser.add_argument('--test_batch_size', type=int, default=32)\n",
    "    parser.add_argument('--num_epoch', type=int, default=10)\n",
    "    parser.add_argument('--lr', type=float, default=1e-4)\n",
    "    parser.add_argument('--weight_decay', type=float, default=0.01)\n",
    "    parser.add_argument('--device', type=str, default='cpu')\n",
    "    parser.add_argument('--backend', default=False, action='store_true')\n",
    "    parser.add_argument('--workers', type=int, default=0)\n",
    "    parser.add_argument('--timestamp', type=int, default='{:.0f}{:03}'.format(time.time(), random.randint(0, 999)))\n",
    "    parser.add_argument('--index', type=int, default=0)\n",
    "\n",
    "    args = parser.parse_args(\"\")\n",
    "    args.device = torch.device(args.device)\n",
    "\n",
    "    #Set up logger to log the results at each iteration and save the best model\n",
    "    args.log_name = '{}_{}.log'.format(\"My model\", datetime.now().strftime('%Y-%m-%d_%H-%M-%S')[2:])\n",
    "    if not os.path.exists('logs'):\n",
    "        os.mkdir('logs')\n",
    "    logger = logging.getLogger()\n",
    "    logger.setLevel(logging.INFO)\n",
    "    logger.addHandler(logging.StreamHandler(sys.stdout))\n",
    "    logger.addHandler(logging.FileHandler(os.path.join('logs', args.log_name)))\n",
    "\n",
    "    return args, logger\n"
   ]
  },
  {
   "cell_type": "markdown",
   "metadata": {},
   "source": [
    "# 4. Train and Test the model.\n",
    "Fill in the code to complete the training and testing, and print the results and losses. You can refer to https://pytorch.org/tutorials/beginner/basics/optimization_tutorial.html and https://pytorch.org/tutorials/beginner/blitz/cifar10_tutorial.html"
   ]
  },
  {
   "cell_type": "code",
   "execution_count": 4,
   "metadata": {},
   "outputs": [
    {
     "name": "stdout",
     "output_type": "stream",
     "text": [
      "> training arguments:\n",
      ">>> train_batch_size: 32\n",
      ">>> test_batch_size: 32\n",
      ">>> num_epoch: 10\n",
      ">>> lr: 0.0001\n",
      ">>> weight_decay: 0.01\n",
      ">>> device: cpu\n",
      ">>> backend: False\n",
      ">>> workers: 0\n",
      ">>> timestamp: 1700383871818\n",
      ">>> index: 0\n",
      ">>> log_name: My model_23-11-19_16-51-10.log\n",
      "network.0.weight torch.Size([128, 1, 3, 3])\n",
      "network.0.bias torch.Size([128])\n",
      "network.2.weight torch.Size([128, 128, 3, 3])\n",
      "network.2.bias torch.Size([128])\n",
      "network.5.weight torch.Size([256, 128, 3, 3])\n",
      "network.5.bias torch.Size([256])\n",
      "network.7.weight torch.Size([256, 256, 3, 3])\n",
      "network.7.bias torch.Size([256])\n",
      "network.11.weight torch.Size([1024, 262144])\n",
      "network.11.bias torch.Size([1024])\n",
      "network.13.weight torch.Size([512, 1024])\n",
      "network.13.bias torch.Size([512])\n",
      "network.15.weight torch.Size([20, 512])\n",
      "network.15.bias torch.Size([20])\n"
     ]
    },
    {
     "name": "stderr",
     "output_type": "stream",
     "text": [
      "100%|==========| 23/23 [02:53<00:00,  7.55s/it]\n",
      "100%|==========| 23/23 [01:00<00:00,  2.64s/it]"
     ]
    },
    {
     "name": "stdout",
     "output_type": "stream",
     "text": [
      "1/10 - 10.00%\n",
      "[train] loss: 2.0673, acc: 40.69\n",
      "[test] loss: 1.1410, acc: 72.36\n"
     ]
    },
    {
     "name": "stderr",
     "output_type": "stream",
     "text": [
      "\n",
      "100%|==========| 23/23 [02:58<00:00,  7.75s/it]\n",
      "100%|==========| 23/23 [00:57<00:00,  2.52s/it]"
     ]
    },
    {
     "name": "stdout",
     "output_type": "stream",
     "text": [
      "2/10 - 20.00%\n",
      "[train] loss: 0.5679, acc: 80.97\n",
      "[test] loss: 0.2897, acc: 90.00\n"
     ]
    },
    {
     "name": "stderr",
     "output_type": "stream",
     "text": [
      "\n",
      "100%|==========| 23/23 [02:46<00:00,  7.24s/it]\n",
      "100%|==========| 23/23 [00:57<00:00,  2.50s/it]"
     ]
    },
    {
     "name": "stdout",
     "output_type": "stream",
     "text": [
      "3/10 - 30.00%\n",
      "[train] loss: 0.1489, acc: 96.11\n",
      "[test] loss: 0.1693, acc: 95.42\n"
     ]
    },
    {
     "name": "stderr",
     "output_type": "stream",
     "text": [
      "\n",
      "100%|==========| 23/23 [02:46<00:00,  7.23s/it]\n",
      "100%|==========| 23/23 [00:54<00:00,  2.37s/it]"
     ]
    },
    {
     "name": "stdout",
     "output_type": "stream",
     "text": [
      "4/10 - 40.00%\n",
      "[train] loss: 0.0790, acc: 98.06\n",
      "[test] loss: 0.0592, acc: 98.19\n"
     ]
    },
    {
     "name": "stderr",
     "output_type": "stream",
     "text": [
      "\n",
      "100%|==========| 23/23 [02:39<00:00,  6.94s/it]\n",
      "100%|==========| 23/23 [00:53<00:00,  2.35s/it]"
     ]
    },
    {
     "name": "stdout",
     "output_type": "stream",
     "text": [
      "5/10 - 50.00%\n",
      "[train] loss: 0.0537, acc: 98.47\n",
      "[test] loss: 0.3501, acc: 93.61\n"
     ]
    },
    {
     "name": "stderr",
     "output_type": "stream",
     "text": [
      "\n",
      "100%|==========| 23/23 [02:38<00:00,  6.90s/it]\n",
      "100%|==========| 23/23 [00:53<00:00,  2.32s/it]"
     ]
    },
    {
     "name": "stdout",
     "output_type": "stream",
     "text": [
      "6/10 - 60.00%\n",
      "[train] loss: 0.0526, acc: 99.03\n",
      "[test] loss: 0.0292, acc: 99.31\n"
     ]
    },
    {
     "name": "stderr",
     "output_type": "stream",
     "text": [
      "\n",
      "100%|==========| 23/23 [02:41<00:00,  7.03s/it]\n",
      "100%|==========| 23/23 [00:54<00:00,  2.36s/it]"
     ]
    },
    {
     "name": "stdout",
     "output_type": "stream",
     "text": [
      "7/10 - 70.00%\n",
      "[train] loss: 0.0026, acc: 100.00\n",
      "[test] loss: 0.0245, acc: 99.31\n"
     ]
    },
    {
     "name": "stderr",
     "output_type": "stream",
     "text": [
      "\n",
      "100%|==========| 23/23 [02:41<00:00,  7.03s/it]\n",
      "100%|==========| 23/23 [00:55<00:00,  2.43s/it]"
     ]
    },
    {
     "name": "stdout",
     "output_type": "stream",
     "text": [
      "8/10 - 80.00%\n",
      "[train] loss: 0.0005, acc: 100.00\n",
      "[test] loss: 0.0182, acc: 99.58\n"
     ]
    },
    {
     "name": "stderr",
     "output_type": "stream",
     "text": [
      "\n",
      "100%|==========| 23/23 [02:39<00:00,  6.93s/it]\n",
      "100%|==========| 23/23 [00:53<00:00,  2.34s/it]"
     ]
    },
    {
     "name": "stdout",
     "output_type": "stream",
     "text": [
      "9/10 - 90.00%\n",
      "[train] loss: 0.0003, acc: 100.00\n",
      "[test] loss: 0.0181, acc: 99.44\n"
     ]
    },
    {
     "name": "stderr",
     "output_type": "stream",
     "text": [
      "\n",
      "100%|==========| 23/23 [02:39<00:00,  6.94s/it]\n",
      "100%|==========| 23/23 [00:53<00:00,  2.32s/it]"
     ]
    },
    {
     "name": "stdout",
     "output_type": "stream",
     "text": [
      "10/10 - 100.00%\n",
      "[train] loss: 0.0002, acc: 100.00\n",
      "[test] loss: 0.0182, acc: 99.44\n",
      "best loss: 0.0182, best acc: 99.58, best index: 7\n",
      "log saved: My model_23-11-19_16-51-10.log\n"
     ]
    },
    {
     "name": "stderr",
     "output_type": "stream",
     "text": [
      "\n"
     ]
    },
    {
     "data": {
      "image/png": "[encoded data removed]",
      "text/plain": [
       "<Figure size 640x480 with 1 Axes>"
      ]
     },
     "metadata": {},
     "output_type": "display_data"
    },
    {
     "data": {
      "image/png": "[encoded data removed]",
      "text/plain": [
       "<Figure size 640x480 with 1 Axes>"
      ]
     },
     "metadata": {},
     "output_type": "display_data"
    },
    {
     "data": {
      "image/png": "[encoded data removed]",
      "text/plain": [
       "<Figure size 640x480 with 1 Axes>"
      ]
     },
     "metadata": {},
     "output_type": "display_data"
    },
    {
     "data": {
      "image/png": "[encoded data removed]",
      "text/plain": [
       "<Figure size 640x480 with 1 Axes>"
      ]
     },
     "metadata": {},
     "output_type": "display_data"
    }
   ],
   "source": [
    "#The training and testing process\n",
    "class MyNet:\n",
    "    def __init__(self, args,logger):\n",
    "        self.args = args\n",
    "        self.logger = logger\n",
    "        self.Mymodel = Mymodel().to(args.device)\n",
    "        self._print_args()\n",
    "\n",
    "    def _print_args(self):\n",
    "        self.logger.info('> training arguments:')\n",
    "        for arg in vars(self.args):\n",
    "            self.logger.info(f\">>> {arg}: {getattr(self.args, arg)}\")\n",
    "\n",
    "    def _train(self, dataloader, criterion, optimizer):\n",
    "        self.args.index += 1\n",
    "        train_loss, n_correct, n_train = 0, 0, 0\n",
    "        # Turn on the train mode\n",
    "        self.Mymodel.train()\n",
    "        for inputs, targets in tqdm(dataloader, disable=self.args.backend, ascii='>='):\n",
    "            inputs, targets = inputs.to(self.args.device), targets.to(self.args.device)\n",
    "            predicts = self.Mymodel(inputs)\n",
    "            loss = criterion(predicts, targets)\n",
    "\n",
    "            optimizer.zero_grad()\n",
    "            loss.backward()\n",
    "            optimizer.step()\n",
    "            train_loss += loss.item() * targets.size(0)\n",
    "            n_correct += (torch.argmax(predicts, dim=1) == targets).sum().item()\n",
    "            n_train += targets.size(0)\n",
    "\n",
    "        return train_loss / n_train, n_correct / n_train\n",
    "\n",
    "    def _test(self, dataloader, criterion):\n",
    "        test_loss, n_correct, n_test = 0, 0, 0\n",
    "        # Turn on the eval mode\n",
    "        self.Mymodel.eval()\n",
    "\n",
    "        with torch.no_grad():\n",
    "            for inputs, targets in tqdm(dataloader, disable=self.args.backend, ascii=' >='):\n",
    "                inputs, targets = inputs.to(self.args.device), targets.to(self.args.device)\n",
    "                predicts = self.Mymodel(inputs)\n",
    "                loss = criterion(predicts, targets)\n",
    "\n",
    "                test_loss += loss.item() * targets.size(0)\n",
    "                n_correct += (torch.argmax(predicts, dim=1) == targets).sum().item()\n",
    "                n_test += targets.size(0)\n",
    "\n",
    "        return test_loss / n_test, n_correct / n_test\n",
    "\n",
    "    def run(self):\n",
    "        # Print the parameters of model\n",
    "        for name, layer in self.Mymodel.named_parameters(recurse=True):\n",
    "            print(name, layer.shape, sep=\" \")\n",
    "\n",
    "        train_dataloader, test_dataloader = load_dataset(self)\n",
    "        _params = filter(lambda x: x.requires_grad, self.Mymodel.parameters())\n",
    "        criterion = nn.CrossEntropyLoss()\n",
    "        optimizer = torch.optim.AdamW(_params, lr=self.args.lr, weight_decay=self.args.weight_decay)\n",
    "\n",
    "        index = 0\n",
    "        l_acc, l_trloss, l_epo, l_teloss, l_tracc = [], [], [],[],[]\n",
    "        # Get the best_loss and the best_acc\n",
    "        best_loss, best_acc = 0, 0\n",
    "        for epoch in range(self.args.num_epoch):\n",
    "            train_loss, train_acc = self._train(train_dataloader, criterion, optimizer)\n",
    "            test_loss, test_acc = self._test(test_dataloader, criterion)\n",
    "            l_epo.append(epoch), l_acc.append(test_acc), l_trloss.append(train_loss), l_teloss.append(test_loss), l_tracc.append(train_acc)\n",
    "            if test_acc > best_acc or (test_acc == best_acc and test_loss < best_loss):\n",
    "                best_acc, best_loss = test_acc, test_loss\n",
    "                index = epoch\n",
    "            self.logger.info(\n",
    "                '{}/{} - {:.2f}%'.format(epoch + 1, self.args.num_epoch, 100 * (epoch + 1) / self.args.num_epoch))\n",
    "            self.logger.info('[train] loss: {:.4f}, acc: {:.2f}'.format(train_loss, train_acc * 100))\n",
    "            self.logger.info('[test] loss: {:.4f}, acc: {:.2f}'.format(test_loss, test_acc * 100))\n",
    "        self.logger.info(\n",
    "            'best loss: {:.4f}, best acc: {:.2f}, best index: {:d}'.format(best_loss, best_acc * 100, index))\n",
    "        self.logger.info('log saved: {}'.format(self.args.log_name))\n",
    "        # Draw the training process\n",
    "        plt.figure(1)\n",
    "        plt.plot(l_epo, l_acc)\n",
    "        plt.ylabel('test-accuracy')\n",
    "        plt.xlabel('epoch')\n",
    "        plt.title(\"Testing accuracy\")\n",
    "        plt.savefig('./result/' + \"My_model\" + 'teacc.png')\n",
    "\n",
    "        plt.figure(2)\n",
    "        plt.plot(l_epo, l_teloss)\n",
    "        plt.ylabel('test-loss')\n",
    "        plt.xlabel('epoch')\n",
    "        plt.title(\"Testing loss\")\n",
    "        plt.savefig('./result/' + \"My_model\" + 'teloss.png')\n",
    "\n",
    "        plt.figure(3)\n",
    "        plt.plot(l_epo, l_tracc)\n",
    "        plt.ylabel('train-accuracy')\n",
    "        plt.xlabel('epoch')\n",
    "        plt.title(\"Training accuract\")\n",
    "        plt.savefig('./result/' + \"My_model\" + 'tracc.png')\n",
    "\n",
    "        plt.figure(4)\n",
    "        plt.plot(l_epo, l_trloss)\n",
    "        plt.ylabel('train-loss')\n",
    "        plt.xlabel('epoch')\n",
    "        plt.title(\"Training loss\")\n",
    "        plt.savefig('./result/' + \"My_model\" + 'trloss.png')\n",
    "\n",
    "\n",
    "\n",
    "\n",
    "if __name__ == '__main__':\n",
    "    args, logger = get_config()\n",
    "    net = MyNet(args,logger)  # Initialize MyNet with the provided arguments.\n",
    "    net.run()  # Start the training and testing process."
   ]
  },
  {
   "cell_type": "code",
   "execution_count": null,
   "metadata": {},
   "outputs": [],
   "source": []
  }
 ],
 "metadata": {
  "kernelspec": {
   "display_name": "Python 3 (ipykernel)",
   "language": "python",
   "name": "python3"
  },
  "language_info": {
   "codemirror_mode": {
    "name": "ipython",
    "version": 3
   },
   "file_extension": ".py",
   "mimetype": "text/x-python",
   "name": "python",
   "nbconvert_exporter": "python",
   "pygments_lexer": "ipython3",
   "version": "3.11.5"
  }
 },
 "nbformat": 4,
 "nbformat_minor": 2
}
