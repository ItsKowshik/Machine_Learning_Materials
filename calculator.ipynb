{
 "cells": [
  {
   "cell_type": "code",
   "execution_count": 1,
   "metadata": {},
   "outputs": [],
   "source": [
    "import numpy as np\n",
    "import scipy\n",
    "import math\n",
    "import sympy"
   ]
  },
  {
   "cell_type": "code",
   "execution_count": 2,
   "metadata": {},
   "outputs": [
    {
     "name": "stdout",
     "output_type": "stream",
     "text": [
      "0 [[-0.5        -0.5        -0.5        -0.5       ]\n",
      " [-0.5         0.83333333 -0.16666667 -0.16666667]\n",
      " [-0.5        -0.16666667  0.83333333 -0.16666667]\n",
      " [-0.5        -0.16666667 -0.16666667  0.83333333]]\n",
      "1 [[-0.5        -0.67082039 -0.4236068  -0.3472136 ]\n",
      " [-0.5        -0.2236068   0.30601133  0.77868933]\n",
      " [-0.5         0.2236068   0.65879773 -0.51573787]\n",
      " [-0.5         0.67082039 -0.54120227  0.08426213]]\n",
      "Original matrix A:\n",
      "[[ 1.  1.  1.]\n",
      " [ 1.  2.  4.]\n",
      " [ 1.  3.  9.]\n",
      " [ 1.  4. 16.]]\n",
      "\n",
      "Q matrix:\n",
      "[[-0.5        -0.67082039 -0.4236068  -0.3472136 ]\n",
      " [-0.5        -0.2236068   0.30601133  0.77868933]\n",
      " [-0.5         0.2236068   0.65879773 -0.51573787]\n",
      " [-0.5         0.67082039 -0.54120227  0.08426213]]\n",
      "\n",
      "R matrix:\n",
      "[[-2.00000000e+00 -5.00000000e+00 -1.50000000e+01]\n",
      " [-2.22044605e-16  2.23606798e+00  1.11803399e+01]\n",
      " [-2.22044605e-16 -2.22044605e-16 -1.92961813e+00]\n",
      " [-2.22044605e-16 -4.44089210e-16 -5.25902921e-01]]\n",
      "\n",
      "Product of Q and R:\n",
      "[[ 1.  1.  1.]\n",
      " [ 1.  2.  4.]\n",
      " [ 1.  3.  9.]\n",
      " [ 1.  4. 16.]]\n"
     ]
    }
   ],
   "source": [
    "import numpy as np\n",
    "\n",
    "def householder_transformation(A):\n",
    "    m, n = A.shape\n",
    "    R = np.copy(A)\n",
    "    Q = np.eye(m)\n",
    "\n",
    "    for k in range(min(m, n)-1):\n",
    "        x = R[k:, k]\n",
    "        e = np.zeros_like(x)\n",
    "        e[0] = 1\n",
    "        v = np.sign(x[0]) * np.linalg.norm(x) * e + x\n",
    "        v = v / np.linalg.norm(v)\n",
    "        R[k:, k:] -= 2.0 * np.outer(v, (v @ R[k:, k:]))\n",
    "        # Accumulate the transformations to form the Q matrix\n",
    "        Qk = np.eye(m)\n",
    "        Qk[k:, k:] -= 2.0 * np.outer(v, v)\n",
    "        Q = Q @ Qk.T\n",
    "        print(k,Q)\n",
    "\n",
    "    return Q,R\n",
    "\n",
    "A = np.array([[1.0,1.0,1.0],[1.0,2.0,4.0],[1.0,3.0,9.0],[1.0,4.0,16.0]])\n",
    "Q, R = householder_transformation(A)\n",
    "\n",
    "print(\"Original matrix A:\")\n",
    "print(A)\n",
    "print(\"\\nQ matrix:\")\n",
    "print(Q)\n",
    "print(\"\\nR matrix:\")\n",
    "print(R)\n",
    "print(\"\\nProduct of Q and R:\")\n",
    "print(np.dot(Q, R))\n"
   ]
  },
  {
   "cell_type": "code",
   "execution_count": 3,
   "metadata": {},
   "outputs": [],
   "source": [
    "#np.linalg.eig\n",
    "#scipy.linalg.svdvals\n"
   ]
  },
  {
   "cell_type": "code",
   "execution_count": 20,
   "metadata": {},
   "outputs": [
    {
     "data": {
      "text/latex": [
       "$\\displaystyle \\left( \\left[\\begin{matrix}1.00000000000545 & 1.99999999999397 & 3.00000000000058\\end{matrix}\\right], \\  \\left[\\begin{matrix}0.681029754033944 & 0.676269195730612 & 0.688247201611739\\\\0.225263687872776 & 0.225423065243528 & 0.229415733870575\\\\0.696745825280943 & 0.701316202979856 & 0.688247201611628\\end{matrix}\\right], \\  \\left[\\begin{matrix}0.316227766016994 & -0.404061017819311 & -0.139139989880397\\\\-0.948683298050462 & 0.909137290097895 & 0.973979929161851\\\\-1.80231095861106 \\cdot 10^{-13} & 0.101015254453369 & -0.178894272703066\\end{matrix}\\right]\\right)$"
      ],
      "text/plain": [
       "([1.00000000000545, 1.99999999999397, 3.00000000000058], [[0.681029754033944, 0.676269195730612, 0.688247201611739], [0.225263687872776, 0.225423065243528, 0.229415733870575], [0.696745825280943, 0.701316202979856, 0.688247201611628]], [[0.316227766016994, -0.404061017819311, -0.139139989880397], [-0.948683298050462, 0.909137290097895, 0.973979929161851], [-1.80231095861106e-13, 0.101015254453369, -0.178894272703066]])"
      ]
     },
     "execution_count": 20,
     "metadata": {},
     "output_type": "execute_result"
    }
   ],
   "source": [
    "def calceigen(A):\n",
    "    return sympy.simplify(scipy.linalg.eig(A,left=True))\n",
    "\n",
    "A=[[-149,-50,-154],[537,180,546],[-27,-9,-25]]\n",
    "calceigen(A)"
   ]
  },
  {
   "cell_type": "code",
   "execution_count": 5,
   "metadata": {},
   "outputs": [
    {
     "data": {
      "text/latex": [
       "$\\displaystyle \\left[\\begin{matrix}16.8481033526142 & 1.06836951455471 & 3.33475286503143 \\cdot 10^{-16}\\end{matrix}\\right]$"
      ],
      "text/plain": [
       "[16.8481033526142, 1.06836951455471, 3.33475286503143e-16]"
      ]
     },
     "execution_count": 5,
     "metadata": {},
     "output_type": "execute_result"
    }
   ],
   "source": [
    "def svdvals(A):\n",
    "    return sympy.simplify(scipy.linalg.svdvals(A))\n",
    "A=[[1,2,3],[4,5,6],[7,8,9]]\n",
    "svdvals(A)"
   ]
  },
  {
   "cell_type": "code",
   "execution_count": 21,
   "metadata": {},
   "outputs": [
    {
     "data": {
      "text/latex": [
       "$\\displaystyle 1.73196137549816$"
      ],
      "text/plain": [
       "1.73196137549816"
      ]
     },
     "execution_count": 21,
     "metadata": {},
     "output_type": "execute_result"
    }
   ],
   "source": [
    "#To calculate norm of a matrix\n",
    "def norm(A,k):\n",
    "    return sympy.simplify(scipy.linalg.norm(A,ord=k))\n",
    "A=[[0.681029754033944,0.676269195730612,0.688247201611739],[0.225263687872776,0.225423065243528,0.229415733870575],[0.6967,0.70131,0.6882]]\n",
    "norm(A,2)"
   ]
  },
  {
   "cell_type": "code",
   "execution_count": 7,
   "metadata": {},
   "outputs": [
    {
     "data": {
      "text/latex": [
       "$\\displaystyle \\left[\\begin{matrix}0.5 & 0.25 & 0.25\\\\0.25 & 0.5 & 0.25\\\\0.25 & 0.25 & 0.5\\end{matrix}\\right]$"
      ],
      "text/plain": [
       "[[0.5, 0.25, 0.25], [0.25, 0.5, 0.25], [0.25, 0.25, 0.5]]"
      ]
     },
     "execution_count": 7,
     "metadata": {},
     "output_type": "execute_result"
    }
   ],
   "source": [
    "#To calculate inverse of a matrix()\n",
    "def inverse(A):\n",
    "    return sympy.simplify(scipy.linalg.inv(A))\n",
    "A=[[3,-1,-1],[-1,3,-1],[-1,-1,3]]\n",
    "inverse(A)"
   ]
  },
  {
   "cell_type": "code",
   "execution_count": 8,
   "metadata": {},
   "outputs": [
    {
     "data": {
      "text/latex": [
       "$\\displaystyle 5.05227944453851 \\cdot 10^{16}$"
      ],
      "text/plain": [
       "5.05227944453851e+16"
      ]
     },
     "execution_count": 8,
     "metadata": {},
     "output_type": "execute_result"
    }
   ],
   "source": [
    "#Calculate condition number\n",
    "def condition_number(A):\n",
    "    return sympy.simplify(np.linalg.cond(A))\n",
    "\n",
    "A=[[1,2,3],[4,5,6],[7,8,9]]\n",
    "condition_number(A)"
   ]
  },
  {
   "cell_type": "code",
   "execution_count": 9,
   "metadata": {},
   "outputs": [
    {
     "data": {
      "text/latex": [
       "$\\displaystyle \\left( \\left[\\begin{matrix}0.0 & 1.0\\\\1.0 & 0.0\\end{matrix}\\right], \\  \\left[\\begin{matrix}1.0 & 0.0\\\\0.5 & 1.0\\end{matrix}\\right], \\  \\left[\\begin{matrix}6.0 & 7.0\\\\0.0 & 1.5\\end{matrix}\\right]\\right)$"
      ],
      "text/plain": [
       "([[0.0, 1.0], [1.0, 0.0]], [[1.0, 0.0], [0.5, 1.0]], [[6.0, 7.0], [0.0, 1.5]])"
      ]
     },
     "execution_count": 9,
     "metadata": {},
     "output_type": "execute_result"
    }
   ],
   "source": [
    "#To do lu transformation:\n",
    "def lu(A):\n",
    "    #Specify if you want to permute in permute_l\n",
    "    return sympy.simplify(scipy.linalg.lu(A))\n",
    "    #Returns P,L,U\n",
    "A=[[3,5],[6,7]]\n",
    "lu(A)"
   ]
  },
  {
   "cell_type": "code",
   "execution_count": 10,
   "metadata": {},
   "outputs": [
    {
     "data": {
      "text/latex": [
       "$\\displaystyle \\left[\\begin{matrix}1.73205080756888 & -0.577350269189626 & -0.577350269189626\\\\0.0 & 1.63299316185545 & -0.816496580927726\\\\0.0 & 0.0 & 1.4142135623731\\end{matrix}\\right]$"
      ],
      "text/plain": [
       "[[1.73205080756888, -0.577350269189626, -0.577350269189626], [0.0, 1.63299316185545, -0.816496580927726], [0.0, 0.0, 1.4142135623731]]"
      ]
     },
     "execution_count": 10,
     "metadata": {},
     "output_type": "execute_result"
    }
   ],
   "source": [
    "#Calculate cholesky decomposition\n",
    "def cholesky(A):\n",
    "    return sympy.simplify(scipy.linalg.cholesky(A))\n",
    "A=[[3,-1,-1],[-1,3,-1],[-1,-1,3]]\n",
    "cholesky(A)"
   ]
  },
  {
   "cell_type": "code",
   "execution_count": 11,
   "metadata": {},
   "outputs": [
    {
     "data": {
      "text/latex": [
       "$\\displaystyle \\left( \\left[\\begin{matrix}-0.904534033733291 & -0.123091490979333 & 0.408248290463863\\\\0.301511344577764 & -0.861640436855329 & 0.408248290463863\\\\0.301511344577764 & 0.492365963917331 & 0.816496580927726\\end{matrix}\\right], \\  \\left[\\begin{matrix}-3.3166247903554 & 1.50755672288882 & 1.50755672288882\\\\0.0 & -2.95419578350399 & 2.46182981958666\\\\0.0 & 0.0 & 1.63299316185545\\end{matrix}\\right]\\right)$"
      ],
      "text/plain": [
       "([[-0.904534033733291, -0.123091490979333, 0.408248290463863], [0.301511344577764, -0.861640436855329, 0.408248290463863], [0.301511344577764, 0.492365963917331, 0.816496580927726]], [[-3.3166247903554, 1.50755672288882, 1.50755672288882], [0.0, -2.95419578350399, 2.46182981958666], [0.0, 0.0, 1.63299316185545]])"
      ]
     },
     "execution_count": 11,
     "metadata": {},
     "output_type": "execute_result"
    }
   ],
   "source": [
    "#Return QR factorization\n",
    "def QR(A):\n",
    "    return sympy.simplify(scipy.linalg.qr(A))\n",
    "A=[[3,-1,-1],[-1,3,-1],[-1,-1,3]]\n",
    "QR(A)"
   ]
  },
  {
   "cell_type": "code",
   "execution_count": 12,
   "metadata": {},
   "outputs": [
    {
     "name": "stdout",
     "output_type": "stream",
     "text": [
      "Original Matrix:\n",
      "[[ 1.  0.  0.]\n",
      " [ 0.  1.  0.]\n",
      " [ 0.  0.  1.]\n",
      " [-1.  1.  0.]\n",
      " [-1.  0.  1.]\n",
      " [ 0.  1.  1.]]\n",
      "\n",
      "Q Matrix:\n",
      "[[ 0.57735027  0.20412415  0.15811388 -0.77459667  0.          0.        ]\n",
      " [ 0.          0.61237244 -0.15811388  0.12909944 -0.76376262  0.        ]\n",
      " [ 0.          0.          0.63245553  0.12909944 -0.10910895 -0.75592895]\n",
      " [-0.57735027  0.40824829 -0.31622777 -0.38729833  0.32732684 -0.37796447]\n",
      " [-0.57735027 -0.20412415  0.47434165 -0.38729833 -0.32732684  0.37796447]\n",
      " [ 0.          0.61237244  0.47434165  0.25819889  0.43643578  0.37796447]]\n",
      "\n",
      "R Matrix:\n",
      "[[ 1.73205081e+00 -5.77350269e-01 -5.77350269e-01]\n",
      " [-8.89809642e-18  1.63299316e+00  4.08248290e-01]\n",
      " [-6.89243585e-18 -7.06032206e-17  1.58113883e+00]\n",
      " [ 3.37659018e-17 -1.44118221e-17 -1.46970215e-17]\n",
      " [ 0.00000000e+00  7.72423867e-17 -2.03727640e-18]\n",
      " [ 0.00000000e+00 -7.26811578e-17 -3.32886356e-17]]\n",
      "\n",
      "Q * R:\n",
      "[[ 1.00000000e+00  9.72785220e-18 -2.33489614e-18]\n",
      " [-1.72269555e-34  1.00000000e+00  3.66292440e-17]\n",
      " [ 7.64922487e-34 -3.49548376e-33  1.00000000e+00]\n",
      " [-1.00000000e+00  1.00000000e+00 -4.27253184e-17]\n",
      " [-1.00000000e+00 -1.00577113e-16  1.00000000e+00]\n",
      " [-1.08989818e-35  1.00000000e+00  1.00000000e+00]]\n"
     ]
    }
   ],
   "source": [
    "def givens_rotation(A):\n",
    "    m, n = A.shape\n",
    "    Q = np.eye(m)\n",
    "    R = A.copy()\n",
    "\n",
    "    for j in range(n):\n",
    "        for i in range(m-1, j, -1):\n",
    "            if R[i, j] != 0:\n",
    "                # Compute the Givens rotation matrix\n",
    "                c = R[i-1, j] / np.sqrt(R[i-1, j]**2 + R[i, j]**2)\n",
    "                s = -R[i, j] / np.sqrt(R[i-1, j]**2 + R[i, j]**2)\n",
    "                G = np.eye(m)\n",
    "                G[i-1:i+1, i-1:i+1] = np.array([[c, -s], [s, c]])\n",
    "\n",
    "                # Update the matrices Q and R\n",
    "                R = np.dot(G, R)\n",
    "                Q = np.dot(Q, G.T)\n",
    "\n",
    "    return Q, R\n",
    "\n",
    "# Example usage:\n",
    "# Replace 'your_matrix' with your actual matrix\n",
    "A = np.array([[1.0,0,0],[0,1.0,0],[0,0,1.0],[-1.0,1,0],[-1.0,-0,1],[0,1.0,1.0]])\n",
    "Q, R = givens_rotation(A)\n",
    "\n",
    "print(\"Original Matrix:\")\n",
    "print(A)\n",
    "\n",
    "print(\"\\nQ Matrix:\")\n",
    "print(Q)\n",
    "\n",
    "print(\"\\nR Matrix:\")\n",
    "print(R)\n",
    "\n",
    "# Verify the decomposition: Q * R should be approximately equal to the original matrix\n",
    "print(\"\\nQ * R:\")\n",
    "print(np.dot(Q, R))\n"
   ]
  },
  {
   "cell_type": "code",
   "execution_count": null,
   "metadata": {},
   "outputs": [],
   "source": []
  }
 ],
 "metadata": {
  "kernelspec": {
   "display_name": "firstenv",
   "language": "python",
   "name": "python3"
  },
  "language_info": {
   "codemirror_mode": {
    "name": "ipython",
    "version": 3
   },
   "file_extension": ".py",
   "mimetype": "text/x-python",
   "name": "python",
   "nbconvert_exporter": "python",
   "pygments_lexer": "ipython3",
   "version": "3.11.5"
  }
 },
 "nbformat": 4,
 "nbformat_minor": 2
}
