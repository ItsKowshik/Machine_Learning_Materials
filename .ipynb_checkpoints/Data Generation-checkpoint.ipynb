{
 "cells": [
  {
   "cell_type": "code",
   "execution_count": 11,
   "id": "341055a6",
   "metadata": {},
   "outputs": [],
   "source": [
    "#Import the necessary libraries\n",
    "import numpy as np\n",
    "import pandas as pd\n",
    "import random\n",
    "#random.seed(42)"
   ]
  },
  {
   "cell_type": "code",
   "execution_count": 12,
   "id": "d798f627",
   "metadata": {},
   "outputs": [],
   "source": [
    "#This is the file write function to write the randomly generated dataset into desired txt format for use in Comsol.\n",
    "def filewrite(filename, gap, lpcm, hpcm, wpcm, N):\n",
    "    with open(filename,'w') as file:\n",
    "        file.write('gap \"')\n",
    "        line_gap = [str(n) for n in gap]\n",
    "        file.write(\" \".join(line_gap)+\"\"\"\" [mm]\\n\"\"\") #Write Gap values\n",
    "\n",
    "        file.write('Lpcm \"')\n",
    "        line_gap = [str(n) for n in lpcm]\n",
    "        file.write(\" \".join(line_gap)+\"\"\"\" [mm]\\n\"\"\") #Write Lpcm values\n",
    "\n",
    "        file.write('Hpcm \"')\n",
    "        line_gap = [str(n) for n in hpcm]\n",
    "        file.write(\" \".join(line_gap)+\"\"\"\" [mm]\\n\"\"\") # Write Hpcm values\n",
    "\n",
    "        file.write('Wpcm \"')\n",
    "        line_gap = [str(n) for n in wpcm]\n",
    "        file.write(\" \".join(line_gap)+\"\"\"\" [mm]\\n\"\"\") #Write Wpcm values\n",
    "\n",
    "        file.write('N \"')\n",
    "        line_gap = [str(n) for n in N]\n",
    "        file.write(\" \".join(line_gap)+\"\"\"\" []\\n\"\"\") #Write N values\n",
    "        \n",
    "        file.close() #Close file"
   ]
  },
  {
   "cell_type": "code",
   "execution_count": 13,
   "id": "fd23ab86",
   "metadata": {},
   "outputs": [
    {
     "name": "stdout",
     "output_type": "stream",
     "text": [
      "[[10.17  6.22  2.32  5.86  2.  ]\n",
      " [14.33  3.22  4.42  5.81  2.  ]\n",
      " [ 5.83  5.14  1.9   4.59  3.  ]\n",
      " ...\n",
      " [16.54  4.73  1.09 12.52  2.  ]\n",
      " [16.9   2.43  1.52  3.03  4.  ]\n",
      " [14.45  3.66  6.78  4.03  2.  ]]\n"
     ]
    }
   ],
   "source": [
    "#Initialize empty arrays for each feature vector\n",
    "l_pcm = []\n",
    "h_pcm = []\n",
    "w_pcm = []\n",
    "gaps = []\n",
    "N = []\n",
    "#Generate random data points\n",
    "for i in range(1000):\n",
    "    l_pcm.append(round(random.uniform(1,18),2)) #Generate Lpcm values in range 1<=lpcm<=18 and rounded to 2 significant figures\n",
    "for j in range(1000):\n",
    "    h_pcm.append(round(random.uniform(1,8),2)) #Generate Hpcm values in range 1<=hpcm<=8 and rounded to 2 significant figures\n",
    "for k in range(1000):\n",
    "    for _ in range(50000):\n",
    "        #Generate wpcm gaps and N simultaneously so that they fullfil the range (N)*wpcm +(N-1)gaps<18\n",
    "        #Only values which satisfy this condition is included in the dataset\n",
    "        w = random.uniform(1,18)\n",
    "        g = random.uniform(1,16)\n",
    "        n = random.randint(2,8)\n",
    "        if(((n*w+(n-1)*g)>0) & ((n*w+(n-1)*g)<=18)):\n",
    "            w_pcm.append(round(w,2))\n",
    "            gaps.append(round(g,2))\n",
    "            N.append(n)\n",
    "            break\n",
    "        else:\n",
    "            continue\n",
    "\n",
    "#Convert each array to numpy for easier calculation and reproduction\n",
    "l_pcm = np.array(l_pcm)\n",
    "h_pcm = np.array(h_pcm)\n",
    "w_pcm = np.array(w_pcm)\n",
    "gaps = np.array(gaps)\n",
    "N = np.array(N,dtype=\"i\")\n",
    "\n",
    "#Each files\n",
    "file1 = 'set1.txt'\n",
    "file2 = 'set2.txt'\n",
    "file3 = 'set3.txt'\n",
    "file4 = 'set4.txt'\n",
    "file5 = 'set5.txt'\n",
    "\n",
    "#Write in each file in sets of 200\n",
    "filewrite(file1,gaps[0:200],l_pcm[0:200],h_pcm[0:200],w_pcm[0:200],N[0:200])\n",
    "filewrite(file2,gaps[200:400],l_pcm[200:400],h_pcm[200:400],w_pcm[200:400],N[200:400])\n",
    "filewrite(file3,gaps[400:600],l_pcm[400:600],h_pcm[400:600],w_pcm[400:600],N[400:600])\n",
    "filewrite(file4,gaps[600:800],l_pcm[600:800],h_pcm[600:800],w_pcm[600:800],N[600:800])\n",
    "filewrite(file5,gaps[800:1000],l_pcm[800:1000],h_pcm[800:1000],w_pcm[800:1000],N[800:1000])\n",
    "\n",
    "#Reshape and stack the feature vectors into a 2d array\n",
    "l_pcm = l_pcm.reshape(-1,1)\n",
    "h_pcm = h_pcm.reshape(-1,1)\n",
    "w_pcm = w_pcm.reshape(-1,1)\n",
    "gaps = gaps.reshape(-1,1)\n",
    "N = N.reshape(-1,1)\n",
    "dataset = np.hstack([l_pcm,h_pcm,w_pcm,gaps,N])\n",
    "print(dataset)\n",
    "                 "
   ]
  },
  {
   "cell_type": "code",
   "execution_count": 14,
   "id": "39af9d4d",
   "metadata": {},
   "outputs": [],
   "source": [
    "#Save the 2d array as a dataframe\n",
    "model_data = pd.DataFrame(dataset,columns=[\"L_pcm/mm\",\"H_pcm/mm\",\"W_pcm/mm\",\"Gaps/mm\",\"Number of cuts/N\"])\n",
    "model_data = model_data.astype({\"Number of cuts/N\":'int'})"
   ]
  },
  {
   "cell_type": "code",
   "execution_count": 15,
   "id": "bacf49c6",
   "metadata": {},
   "outputs": [
    {
     "name": "stdout",
     "output_type": "stream",
     "text": [
      "   L_pcm/mm  H_pcm/mm  W_pcm/mm  Gaps/mm  Number of cuts/N\n",
      "0     10.17      6.22      2.32     5.86                 2\n",
      "1     14.33      3.22      4.42     5.81                 2\n",
      "2      5.83      5.14      1.90     4.59                 3\n",
      "3      4.51      1.71      2.11     5.83                 2\n",
      "4      5.19      7.58      3.15     2.48                 2\n"
     ]
    }
   ],
   "source": [
    "#Print the head\n",
    "print(model_data.head())"
   ]
  },
  {
   "cell_type": "code",
   "execution_count": 16,
   "id": "7f2edceb",
   "metadata": {},
   "outputs": [
    {
     "name": "stdout",
     "output_type": "stream",
     "text": [
      "<class 'pandas.core.frame.DataFrame'>\n",
      "RangeIndex: 1000 entries, 0 to 999\n",
      "Data columns (total 5 columns):\n",
      " #   Column            Non-Null Count  Dtype  \n",
      "---  ------            --------------  -----  \n",
      " 0   L_pcm/mm          1000 non-null   float64\n",
      " 1   H_pcm/mm          1000 non-null   float64\n",
      " 2   W_pcm/mm          1000 non-null   float64\n",
      " 3   Gaps/mm           1000 non-null   float64\n",
      " 4   Number of cuts/N  1000 non-null   int32  \n",
      "dtypes: float64(4), int32(1)\n",
      "memory usage: 35.3 KB\n",
      "None\n"
     ]
    }
   ],
   "source": [
    "#Print the data type for each column\n",
    "print(model_data.info())"
   ]
  },
  {
   "cell_type": "code",
   "execution_count": 17,
   "id": "4a06da40",
   "metadata": {},
   "outputs": [],
   "source": [
    "#Save to excel file\n",
    "model_data.to_excel('model_data.xlsx',index=False)"
   ]
  },
  {
   "cell_type": "code",
   "execution_count": 18,
   "id": "3fc87ab7",
   "metadata": {},
   "outputs": [],
   "source": [
    "#Save to csv\n",
    "model_data.to_csv('model_data.csv',index=None)"
   ]
  },
  {
   "cell_type": "code",
   "execution_count": 19,
   "id": "844f2e6d",
   "metadata": {},
   "outputs": [],
   "source": [
    "#Testing if file can be read properly\n",
    "test1 = pd.read_csv('model_data.csv')"
   ]
  },
  {
   "cell_type": "code",
   "execution_count": null,
   "id": "2459e6ba",
   "metadata": {},
   "outputs": [],
   "source": []
  },
  {
   "cell_type": "code",
   "execution_count": 20,
   "id": "71455278",
   "metadata": {},
   "outputs": [
    {
     "name": "stdout",
     "output_type": "stream",
     "text": [
      "Number of cuts/N\n",
      "2    712\n",
      "3    171\n",
      "4     72\n",
      "5     28\n",
      "6     12\n",
      "7      4\n",
      "8      1\n",
      "Name: count, dtype: int64\n"
     ]
    }
   ],
   "source": [
    "#See the count of each value in number of cuts in the dataset\n",
    "print(test1['Number of cuts/N'].value_counts())"
   ]
  },
  {
   "cell_type": "code",
   "execution_count": null,
   "id": "0903cc11",
   "metadata": {},
   "outputs": [],
   "source": []
  },
  {
   "cell_type": "code",
   "execution_count": null,
   "id": "048674c1",
   "metadata": {},
   "outputs": [],
   "source": []
  }
 ],
 "metadata": {
  "kernelspec": {
   "display_name": "firstenv",
   "language": "python",
   "name": "firstenv"
  },
  "language_info": {
   "codemirror_mode": {
    "name": "ipython",
    "version": 3
   },
   "file_extension": ".py",
   "mimetype": "text/x-python",
   "name": "python",
   "nbconvert_exporter": "python",
   "pygments_lexer": "ipython3",
   "version": "3.11.5"
  }
 },
 "nbformat": 4,
 "nbformat_minor": 5
}
